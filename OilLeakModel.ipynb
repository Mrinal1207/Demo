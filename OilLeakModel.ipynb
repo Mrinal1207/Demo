{
 "cells": [
  {
   "cell_type": "code",
   "execution_count": 2,
   "metadata": {},
   "outputs": [],
   "source": [
    "import numpy as np\n",
    "import pandas as pd\n",
    "import tensorflow as tf\n",
    "from matplotlib import pyplot as plt\n",
    "from tensorflow import feature_column\n",
    "from tensorflow.keras import layers\n",
    "import pickle\n",
    "pd.options.display.max_rows = 10\n",
    "pd.options.display.float_format = \"{:.1f}\".format"
   ]
  },
  {
   "cell_type": "code",
   "execution_count": 4,
   "metadata": {},
   "outputs": [],
   "source": [
    "train_df = pd.read_excel(r'C:\\Users\\Mrinal\\Desktop\\Oil Leak.xlsx')\n",
    "test_df = pd.read_excel(r'C:\\Users\\Mrinal\\Desktop\\Oil Leak test.xlsx')"
   ]
  },
  {
   "cell_type": "code",
   "execution_count": 8,
   "metadata": {},
   "outputs": [
    {
     "data": {
      "text/plain": [
       "<tf.Tensor: shape=(681, 2), dtype=float32, numpy=\n",
       "array([[23.967821,  5.      ],\n",
       "       [23.956722,  5.      ],\n",
       "       [23.929676,  5.      ],\n",
       "       ...,\n",
       "       [11.023411, 11.      ],\n",
       "       [11.005994, 11.      ],\n",
       "       [11.00345 , 11.      ]], dtype=float32)>"
      ]
     },
     "execution_count": 8,
     "metadata": {},
     "output_type": "execute_result"
    }
   ],
   "source": [
    "feature_columns = []\n",
    "pressure = tf.feature_column.numeric_column(\"pressure\")\n",
    "feature_columns.append(pressure)\n",
    "flow = tf.feature_column.numeric_column(\"flow\")\n",
    "feature_columns.append(flow)\n",
    "feature_layer = layers.DenseFeatures(feature_columns)\n",
    "feature_layer(dict(train_df))"
   ]
  },
  {
   "cell_type": "code",
   "execution_count": 9,
   "metadata": {},
   "outputs": [
    {
     "name": "stdout",
     "output_type": "stream",
     "text": [
      "Defined the create_model and train_model functions.\n"
     ]
    }
   ],
   "source": [
    "def create_model(my_learning_rate, feature_layer, my_metrics):\n",
    "  model = tf.keras.models.Sequential()\n",
    "  model.add(feature_layer)\n",
    "  model.add(tf.keras.layers.Dense(units=1, input_shape=(1,),\n",
    "                                  activation=tf.sigmoid),)\n",
    "  model.compile(optimizer=tf.keras.optimizers.RMSprop(lr=my_learning_rate),                                                   \n",
    "                loss=tf.keras.losses.BinaryCrossentropy(),\n",
    "                metrics=my_metrics)\n",
    "  return model        \n",
    "\n",
    "\n",
    "def train_model(model, dataset, epochs, label_name,\n",
    "                batch_size=None, shuffle=True):\n",
    "  features = {name:np.array(value) for name, value in dataset.items()}\n",
    "  label = np.array(features.pop(label_name)) \n",
    "  history = model.fit(x=features, y=label, batch_size=batch_size,\n",
    "                      epochs=epochs, shuffle=shuffle)\n",
    "  epochs = history.epoch\n",
    "  hist = pd.DataFrame(history.history)\n",
    "  return epochs, hist  \n",
    "print(\"Defined the create_model and train_model functions.\")   "
   ]
  },
  {
   "cell_type": "code",
   "execution_count": 10,
   "metadata": {},
   "outputs": [
    {
     "name": "stdout",
     "output_type": "stream",
     "text": [
      "Defined the plot_curve function.\n"
     ]
    }
   ],
   "source": [
    " def plot_curve(epochs, hist, list_of_metrics):\n",
    "  \n",
    "  plt.figure()\n",
    "  plt.xlabel(\"Epoch\")\n",
    "  plt.ylabel(\"Value\")\n",
    "\n",
    "  for m in list_of_metrics:\n",
    "    x = hist[m]\n",
    "    plt.plot(epochs[1:], x[1:], label=m)\n",
    "\n",
    "  plt.legend()\n",
    "\n",
    "print(\"Defined the plot_curve function.\")"
   ]
  },
  {
   "cell_type": "code",
   "execution_count": 13,
   "metadata": {},
   "outputs": [
    {
     "name": "stdout",
     "output_type": "stream",
     "text": [
      "Epoch 1/30\n",
      "WARNING:tensorflow:Layers in a Sequential model should only have a single input tensor, but we receive a <class 'dict'> input: {'pressure': <tf.Tensor 'ExpandDims_1:0' shape=(None, 1) dtype=int64>, 'flow': <tf.Tensor 'ExpandDims:0' shape=(None, 1) dtype=float32>}\n",
      "Consider rewriting this model with the Functional API.\n",
      "WARNING:tensorflow:Layers in a Sequential model should only have a single input tensor, but we receive a <class 'dict'> input: {'pressure': <tf.Tensor 'ExpandDims_1:0' shape=(None, 1) dtype=int64>, 'flow': <tf.Tensor 'ExpandDims:0' shape=(None, 1) dtype=float32>}\n",
      "Consider rewriting this model with the Functional API.\n",
      "57/57 [==============================] - 0s 2ms/step - loss: 1.2858 - accuracy: 0.6270\n",
      "Epoch 2/30\n",
      "57/57 [==============================] - 0s 3ms/step - loss: 0.3017 - accuracy: 0.8811\n",
      "Epoch 3/30\n",
      "57/57 [==============================] - 0s 2ms/step - loss: 0.2138 - accuracy: 0.9236\n",
      "Epoch 4/30\n",
      "57/57 [==============================] - 0s 3ms/step - loss: 0.1689 - accuracy: 0.9413\n",
      "Epoch 5/30\n",
      "57/57 [==============================] - 0s 2ms/step - loss: 0.1470 - accuracy: 0.9457\n",
      "Epoch 6/30\n",
      "57/57 [==============================] - 0s 2ms/step - loss: 0.1305 - accuracy: 0.9486\n",
      "Epoch 7/30\n",
      "57/57 [==============================] - 0s 3ms/step - loss: 0.1207 - accuracy: 0.9457\n",
      "Epoch 8/30\n",
      "57/57 [==============================] - 0s 3ms/step - loss: 0.1137 - accuracy: 0.9530\n",
      "Epoch 9/30\n",
      "57/57 [==============================] - 0s 3ms/step - loss: 0.1104 - accuracy: 0.9486\n",
      "Epoch 10/30\n",
      "57/57 [==============================] - 0s 4ms/step - loss: 0.1044 - accuracy: 0.9457\n",
      "Epoch 11/30\n",
      "57/57 [==============================] - 0s 3ms/step - loss: 0.0985 - accuracy: 0.9559\n",
      "Epoch 12/30\n",
      "57/57 [==============================] - 0s 3ms/step - loss: 0.0980 - accuracy: 0.9501\n",
      "Epoch 13/30\n",
      "57/57 [==============================] - 0s 3ms/step - loss: 0.0956 - accuracy: 0.9457\n",
      "Epoch 14/30\n",
      "57/57 [==============================] - 0s 2ms/step - loss: 0.0920 - accuracy: 0.9515\n",
      "Epoch 15/30\n",
      "57/57 [==============================] - 0s 3ms/step - loss: 0.0913 - accuracy: 0.9471\n",
      "Epoch 16/30\n",
      "57/57 [==============================] - 0s 3ms/step - loss: 0.0892 - accuracy: 0.9530\n",
      "Epoch 17/30\n",
      "57/57 [==============================] - 0s 4ms/step - loss: 0.0872 - accuracy: 0.9457\n",
      "Epoch 18/30\n",
      "57/57 [==============================] - 0s 3ms/step - loss: 0.0859 - accuracy: 0.9486\n",
      "Epoch 19/30\n",
      "57/57 [==============================] - 0s 3ms/step - loss: 0.0847 - accuracy: 0.9515\n",
      "Epoch 20/30\n",
      "57/57 [==============================] - 0s 2ms/step - loss: 0.0847 - accuracy: 0.9457\n",
      "Epoch 21/30\n",
      "57/57 [==============================] - 0s 3ms/step - loss: 0.0831 - accuracy: 0.9471\n",
      "Epoch 22/30\n",
      "57/57 [==============================] - 0s 3ms/step - loss: 0.0819 - accuracy: 0.9530\n",
      "Epoch 23/30\n",
      "57/57 [==============================] - 0s 3ms/step - loss: 0.0807 - accuracy: 0.9486\n",
      "Epoch 24/30\n",
      "57/57 [==============================] - 0s 2ms/step - loss: 0.0798 - accuracy: 0.9589\n",
      "Epoch 25/30\n",
      "57/57 [==============================] - 0s 4ms/step - loss: 0.0804 - accuracy: 0.9486\n",
      "Epoch 26/30\n",
      "57/57 [==============================] - 0s 3ms/step - loss: 0.0786 - accuracy: 0.9559\n",
      "Epoch 27/30\n",
      "57/57 [==============================] - 0s 3ms/step - loss: 0.0779 - accuracy: 0.9515\n",
      "Epoch 28/30\n",
      "57/57 [==============================] - 0s 3ms/step - loss: 0.0778 - accuracy: 0.9486\n",
      "Epoch 29/30\n",
      "57/57 [==============================] - 0s 4ms/step - loss: 0.0761 - accuracy: 0.9589\n",
      "Epoch 30/30\n",
      "57/57 [==============================] - 0s 3ms/step - loss: 0.0756 - accuracy: 0.9486\n"
     ]
    },
    {
     "data": {
      "image/png": "[encoded data removed]",
      "text/plain": [
       "<Figure size 432x288 with 1 Axes>"
      ]
     },
     "metadata": {
      "needs_background": "light"
     },
     "output_type": "display_data"
    }
   ],
   "source": [
    "learning_rate = 0.01\n",
    "epochs = 30\n",
    "batch_size = 12\n",
    "label_name = \"Leakage\"\n",
    "classification_threshold = 0.35\n",
    "METRICS = [\n",
    "    tf.keras.metrics.BinaryAccuracy(name='accuracy',\n",
    "                                    threshold=classification_threshold),\n",
    "]\n",
    "\n",
    "my_model = create_model(learning_rate, feature_layer, METRICS)\n",
    "epochs, hist = train_model(my_model, train_df, epochs,\n",
    "                           label_name, batch_size)\n",
    "list_of_metrics_to_plot = ['accuracy']\n",
    "plot_curve(epochs, hist, list_of_metrics_to_plot)"
   ]
  },
  {
   "cell_type": "code",
   "execution_count": 14,
   "metadata": {},
   "outputs": [
    {
     "name": "stdout",
     "output_type": "stream",
     "text": [
      "    pressure  flow  Leakage\n",
      "0          5  23.8      nan\n",
      "1          5  21.0      nan\n",
      "2          6  20.8      nan\n",
      "3          6  18.9      nan\n",
      "4          6  18.7      nan\n",
      "..       ...   ...      ...\n",
      "7          8  17.4      nan\n",
      "8          8  17.3      nan\n",
      "9          9  12.8      nan\n",
      "10         9  12.6      nan\n",
      "11        10  11.7      nan\n",
      "\n",
      "[12 rows x 3 columns]\n",
      "WARNING:tensorflow:Layers in a Sequential model should only have a single input tensor, but we receive a <class 'dict'> input: {'pressure': <tf.Tensor 'ExpandDims_1:0' shape=(None, 1) dtype=int64>, 'flow': <tf.Tensor 'ExpandDims:0' shape=(None, 1) dtype=float32>}\n",
      "Consider rewriting this model with the Functional API.\n",
      "Post Prediction Leakage Values\n",
      "         \n",
      "Pressure    Flow          Predicted\n",
      "value       value          value\n",
      "--------------------------------------\n",
      "    5  23.81               1\n",
      "    5  20.96               1\n",
      "    6  20.79               1\n",
      "    6  18.89               1\n",
      "    6  18.71               1\n",
      "    7  17.69               1\n",
      "    7  17.60               1\n",
      "    8  17.44               0\n",
      "    8  17.31               0\n",
      "    9  12.82               0\n",
      "    9  12.65               0\n",
      "   10  11.69               0\n"
     ]
    }
   ],
   "source": [
    "features = {name:np.array(value) for name, value in test_df.items()}\n",
    "print(test_df[['pressure', 'flow','Leakage']])\n",
    "label = np.array(features.pop(label_name))\n",
    "predicted_values = my_model.predict(features)\n",
    "predicted_values =(predicted_values>0.5).astype(float)\n",
    "\n",
    "print(\"Post Prediction Leakage Values\")\n",
    "print(\"         \")\n",
    "print(\"Pressure    Flow          Predicted\")\n",
    "print(\"value       value          value\")\n",
    "print(\"--------------------------------------\")\n",
    "n = len(test_df.axes[0])\n",
    "for i in range(n):\n",
    "    print (\"%5.0f  \" \"%.2f %15.0f\" % (test_df[\"pressure\"][0 + i],\n",
    "                                   test_df[\"flow\"][0 + i],\n",
    "                                   predicted_values[i][0] ))\n"
   ]
  },
  {
   "cell_type": "code",
   "execution_count": null,
   "metadata": {},
   "outputs": [],
   "source": []
  },
  {
   "cell_type": "code",
   "execution_count": null,
   "metadata": {},
   "outputs": [],
   "source": []
  }
 ],
 "metadata": {
  "kernelspec": {
   "display_name": "Python 3",
   "language": "python",
   "name": "python3"
  }
 },
 "nbformat": 4,
 "nbformat_minor": 4
}
